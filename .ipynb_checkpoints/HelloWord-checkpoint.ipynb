{
 "cells": [
  {
   "cell_type": "code",
   "execution_count": 1,
   "id": "5d365d35-15fe-4cf4-b1c8-2e8443d85aca",
   "metadata": {},
   "outputs": [
    {
     "name": "stdout",
     "output_type": "stream",
     "text": [
      "Hello, world!\n"
     ]
    }
   ],
   "source": [
    "print(\"Hello, world!\")"
   ]
  },
  {
   "cell_type": "markdown",
   "id": "05284214-d99c-4ffd-9fd1-6d63e0e7007e",
   "metadata": {},
   "source": [
    "# My First Markdown Heading"
   ]
  },
  {
   "cell_type": "markdown",
   "id": "771bd9fd-7624-4eb5-a4e2-109f09a54610",
   "metadata": {},
   "source": [
    "## My Second Markdown Heading"
   ]
  },
  {
   "cell_type": "markdown",
   "id": "3bcdca72-8e34-4ef9-8e8c-cb64ee8a2964",
   "metadata": {},
   "source": [
    "This is some **bold** text"
   ]
  },
  {
   "cell_type": "markdown",
   "id": "b20f7f90-7088-4bb6-907d-b9bc6e1de0db",
   "metadata": {},
   "source": [
    "1. First item \n",
    "2. Second item\n",
    "3. Third item\n"
   ]
  },
  {
   "cell_type": "code",
   "execution_count": 3,
   "id": "b21282e1-880f-4143-9021-afa3108cf366",
   "metadata": {},
   "outputs": [],
   "source": [
    "my_var = 5"
   ]
  },
  {
   "cell_type": "code",
   "execution_count": 4,
   "id": "e9fdda59-4586-483f-8c33-d01c038c1316",
   "metadata": {},
   "outputs": [
    {
     "name": "stdout",
     "output_type": "stream",
     "text": [
      "10\n"
     ]
    }
   ],
   "source": [
    "result = my_var * 2\n",
    "print(result)"
   ]
  },
  {
   "cell_type": "code",
   "execution_count": null,
   "id": "1564ea05-0796-408e-9358-aecaa46bf143",
   "metadata": {},
   "outputs": [],
   "source": []
  }
 ],
 "metadata": {
  "kernelspec": {
   "display_name": "Python 3 (ipykernel)",
   "language": "python",
   "name": "python3"
  },
  "language_info": {
   "codemirror_mode": {
    "name": "ipython",
    "version": 3
   },
   "file_extension": ".py",
   "mimetype": "text/x-python",
   "name": "python",
   "nbconvert_exporter": "python",
   "pygments_lexer": "ipython3",
   "version": "3.10.9"
  }
 },
 "nbformat": 4,
 "nbformat_minor": 5
}
